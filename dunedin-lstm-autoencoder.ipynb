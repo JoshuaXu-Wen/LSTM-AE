{
 "cells": [
  {
   "cell_type": "code",
   "execution_count": 1,
   "id": "5774c965",
   "metadata": {
    "execution": {
     "iopub.execute_input": "2022-03-10T04:59:39.593451Z",
     "iopub.status.busy": "2022-03-10T04:59:39.592673Z",
     "iopub.status.idle": "2022-03-10T04:59:49.206484Z",
     "shell.execute_reply": "2022-03-10T04:59:49.206914Z",
     "shell.execute_reply.started": "2022-02-28T04:28:32.514076Z"
    },
    "papermill": {
     "duration": 9.650423,
     "end_time": "2022-03-10T04:59:49.207215",
     "exception": false,
     "start_time": "2022-03-10T04:59:39.556792",
     "status": "completed"
    },
    "tags": []
   },
   "outputs": [
    {
     "name": "stdout",
     "output_type": "stream",
     "text": [
      "Collecting openpyxl\r\n",
      "  Downloading openpyxl-3.0.9-py2.py3-none-any.whl (242 kB)\r\n",
      "     |████████████████████████████████| 242 kB 594 kB/s            \r\n",
      "\u001b[?25hCollecting et-xmlfile\r\n",
      "  Downloading et_xmlfile-1.1.0-py3-none-any.whl (4.7 kB)\r\n",
      "Installing collected packages: et-xmlfile, openpyxl\r\n",
      "Successfully installed et-xmlfile-1.1.0 openpyxl-3.0.9\r\n",
      "\u001b[33mWARNING: Running pip as the 'root' user can result in broken permissions and conflicting behaviour with the system package manager. It is recommended to use a virtual environment instead: https://pip.pypa.io/warnings/venv\u001b[0m\r\n"
     ]
    }
   ],
   "source": [
    "!pip install openpyxl"
   ]
  },
  {
   "cell_type": "code",
   "execution_count": 2,
   "id": "7b5a4c78",
   "metadata": {
    "_cell_guid": "b1076dfc-b9ad-4769-8c92-a6c4dae69d19",
    "_uuid": "8f2839f25d086af736a60e9eeb907d3b93b6e0e5",
    "execution": {
     "iopub.execute_input": "2022-03-10T04:59:49.270598Z",
     "iopub.status.busy": "2022-03-10T04:59:49.269440Z",
     "iopub.status.idle": "2022-03-10T04:59:50.111605Z",
     "shell.execute_reply": "2022-03-10T04:59:50.110974Z",
     "shell.execute_reply.started": "2022-02-28T04:28:43.817279Z"
    },
    "papermill": {
     "duration": 0.875542,
     "end_time": "2022-03-10T04:59:50.111747",
     "exception": false,
     "start_time": "2022-03-10T04:59:49.236205",
     "status": "completed"
    },
    "tags": []
   },
   "outputs": [
    {
     "name": "stdout",
     "output_type": "stream",
     "text": [
      "['/kaggle/input/dunedinbox74/Dunedin-Box74/Dunedin-2018-Month-1.xlsx',\n",
      " '/kaggle/input/dunedinbox74/Dunedin-Box74/Dunedin-2018-Month-2.xlsx',\n",
      " '/kaggle/input/dunedinbox74/Dunedin-Box74/Dunedin-2018-Month-3.xlsx',\n",
      " '/kaggle/input/dunedinbox74/Dunedin-Box74/Dunedin-2018-Month-4.xlsx',\n",
      " '/kaggle/input/dunedinbox74/Dunedin-Box74/Dunedin-2018-Month-5.xlsx',\n",
      " '/kaggle/input/dunedinbox74/Dunedin-Box74/Dunedin-2018-Month-6.xlsx',\n",
      " '/kaggle/input/dunedinbox74/Dunedin-Box74/Dunedin-2018-Month-7.xlsx',\n",
      " '/kaggle/input/dunedinbox74/Dunedin-Box74/Dunedin-2018-Month-8.xlsx',\n",
      " '/kaggle/input/dunedinbox74/Dunedin-Box74/Dunedin-2018-Month-9.xlsx',\n",
      " '/kaggle/input/dunedinbox74/Dunedin-Box74/Dunedin-2018-Month-10.xlsx',\n",
      " '/kaggle/input/dunedinbox74/Dunedin-Box74/Dunedin-2018-Month-11.xlsx',\n",
      " '/kaggle/input/dunedinbox74/Dunedin-Box74/Dunedin-2018-Month-12.xlsx',\n",
      " '/kaggle/input/dunedinbox74/Dunedin-Box74/Dunedin-2019-Month-1.xlsx',\n",
      " '/kaggle/input/dunedinbox74/Dunedin-Box74/Dunedin-2019-Month-2.xlsx',\n",
      " '/kaggle/input/dunedinbox74/Dunedin-Box74/Dunedin-2019-Month-3.xlsx',\n",
      " '/kaggle/input/dunedinbox74/Dunedin-Box74/Dunedin-2019-Month-4.xlsx',\n",
      " '/kaggle/input/dunedinbox74/Dunedin-Box74/Dunedin-2019-Month-5.xlsx',\n",
      " '/kaggle/input/dunedinbox74/Dunedin-Box74/Dunedin-2019-Month-6.xlsx',\n",
      " '/kaggle/input/dunedinbox74/Dunedin-Box74/Dunedin-2019-Month-7.xlsx',\n",
      " '/kaggle/input/dunedinbox74/Dunedin-Box74/Dunedin-2019-Month-8.xlsx',\n",
      " '/kaggle/input/dunedinbox74/Dunedin-Box74/Dunedin-2019-Month-9.xlsx',\n",
      " '/kaggle/input/dunedinbox74/Dunedin-Box74/Dunedin-2019-Month-10.xlsx',\n",
      " '/kaggle/input/dunedinbox74/Dunedin-Box74/Dunedin-2019-Month-11.xlsx',\n",
      " '/kaggle/input/dunedinbox74/Dunedin-Box74/Dunedin-2019-Month-12.xlsx']\n"
     ]
    }
   ],
   "source": [
    "# This Python 3 environment comes with many helpful analytics libraries installed\n",
    "# It is defined by the kaggle/python Docker image: https://github.com/kaggle/docker-python\n",
    "# For example, here's several helpful packages to load\n",
    "\n",
    "import numpy as np # linear algebra\n",
    "import pandas as pd # data processing, CSV file I/O (e.g. pd.read_csv)\n",
    "from pprint import pprint as pp\n",
    "import matplotlib.pyplot as plt\n",
    "import seaborn as sns\n",
    "sns.style = 'white'\n",
    "\n",
    "# Input data files are available in the read-only \"../input/\" directory\n",
    "# For example, running this (by clicking run or pressing Shift+Enter) will list all files under the input directory\n",
    "\n",
    "import os\n",
    "# path_list = []\n",
    "# for dirname, _, filenames in os.walk('/kaggle/input'):\n",
    "#     for filename in filenames:\n",
    "# #         print(os.path.join(dirname, filename))\n",
    "#         path_list.append(os.path.join(dirname, filename))\n",
    "# pp(path_list)\n",
    "\n",
    "path_list = []\n",
    "years = [2018, 2019]\n",
    "months = list(range(1, 13))\n",
    "seq_size = 60\n",
    "ground_truth = 1000\n",
    "file_dir = '/kaggle/input/dunedinbox74/Dunedin-Box74/'\n",
    "for year in years:\n",
    "    for month in months:\n",
    "        file_path = os.path.join(file_dir, \"Dunedin-\" + str(year) + \"-Month-\" + str(month) + '.xlsx')\n",
    "        path_list.append(file_path)\n",
    "\n",
    "pp(path_list)\n",
    "\n",
    "# You can write up to 20GB to the current directory (/kaggle/working/) that gets preserved as output when you create a version using \"Save & Run All\" \n",
    "# You can also write temporary files to /kaggle/temp/, but they won't be saved outside of the current session"
   ]
  },
  {
   "cell_type": "code",
   "execution_count": 3,
   "id": "3d03eba5",
   "metadata": {
    "execution": {
     "iopub.execute_input": "2022-03-10T04:59:50.171726Z",
     "iopub.status.busy": "2022-03-10T04:59:50.170723Z",
     "iopub.status.idle": "2022-03-10T05:00:01.211583Z",
     "shell.execute_reply": "2022-03-10T05:00:01.211113Z",
     "shell.execute_reply.started": "2022-02-28T04:28:44.841033Z"
    },
    "papermill": {
     "duration": 11.072994,
     "end_time": "2022-03-10T05:00:01.211722",
     "exception": false,
     "start_time": "2022-03-10T04:59:50.138728",
     "status": "completed"
    },
    "tags": []
   },
   "outputs": [
    {
     "name": "stderr",
     "output_type": "stream",
     "text": [
      "/opt/conda/lib/python3.7/site-packages/openpyxl/styles/stylesheet.py:226: UserWarning: Workbook contains no default style, apply openpyxl's default\n",
      "  warn(\"Workbook contains no default style, apply openpyxl's default\")\n"
     ]
    },
    {
     "data": {
      "text/html": [
       "<div>\n",
       "<style scoped>\n",
       "    .dataframe tbody tr th:only-of-type {\n",
       "        vertical-align: middle;\n",
       "    }\n",
       "\n",
       "    .dataframe tbody tr th {\n",
       "        vertical-align: top;\n",
       "    }\n",
       "\n",
       "    .dataframe thead th {\n",
       "        text-align: right;\n",
       "    }\n",
       "</style>\n",
       "<table border=\"1\" class=\"dataframe\">\n",
       "  <thead>\n",
       "    <tr style=\"text-align: right;\">\n",
       "      <th></th>\n",
       "      <th>CO2</th>\n",
       "    </tr>\n",
       "  </thead>\n",
       "  <tbody>\n",
       "    <tr>\n",
       "      <th>count</th>\n",
       "      <td>84079.000000</td>\n",
       "    </tr>\n",
       "    <tr>\n",
       "      <th>mean</th>\n",
       "      <td>472.673533</td>\n",
       "    </tr>\n",
       "    <tr>\n",
       "      <th>std</th>\n",
       "      <td>226.958872</td>\n",
       "    </tr>\n",
       "    <tr>\n",
       "      <th>min</th>\n",
       "      <td>383.000000</td>\n",
       "    </tr>\n",
       "    <tr>\n",
       "      <th>25%</th>\n",
       "      <td>411.000000</td>\n",
       "    </tr>\n",
       "    <tr>\n",
       "      <th>50%</th>\n",
       "      <td>416.000000</td>\n",
       "    </tr>\n",
       "    <tr>\n",
       "      <th>75%</th>\n",
       "      <td>431.000000</td>\n",
       "    </tr>\n",
       "    <tr>\n",
       "      <th>max</th>\n",
       "      <td>2718.000000</td>\n",
       "    </tr>\n",
       "  </tbody>\n",
       "</table>\n",
       "</div>"
      ],
      "text/plain": [
       "                CO2\n",
       "count  84079.000000\n",
       "mean     472.673533\n",
       "std      226.958872\n",
       "min      383.000000\n",
       "25%      411.000000\n",
       "50%      416.000000\n",
       "75%      431.000000\n",
       "max     2718.000000"
      ]
     },
     "execution_count": 3,
     "metadata": {},
     "output_type": "execute_result"
    }
   ],
   "source": [
    "df_train_list = [pd.read_excel(month, index_col='Date_Time', parse_dates=True) \n",
    "                 for month in path_list[:2]]\n",
    "df_train = pd.concat(df_train_list)\n",
    "\n",
    "# only use \"CO2\" in experiment\n",
    "X_train = df_train.drop(columns=['Temp', 'Humid'])\n",
    "X_train = X_train[~X_train.index.duplicated()]\n",
    "X_train.describe()"
   ]
  },
  {
   "cell_type": "code",
   "execution_count": 4,
   "id": "7917c08d",
   "metadata": {
    "execution": {
     "iopub.execute_input": "2022-03-10T05:00:01.271560Z",
     "iopub.status.busy": "2022-03-10T05:00:01.271002Z",
     "iopub.status.idle": "2022-03-10T05:00:12.789769Z",
     "shell.execute_reply": "2022-03-10T05:00:12.789116Z",
     "shell.execute_reply.started": "2022-02-28T04:28:53.313435Z"
    },
    "papermill": {
     "duration": 11.550465,
     "end_time": "2022-03-10T05:00:12.789905",
     "exception": false,
     "start_time": "2022-03-10T05:00:01.239440",
     "status": "completed"
    },
    "tags": []
   },
   "outputs": [
    {
     "name": "stderr",
     "output_type": "stream",
     "text": [
      "/opt/conda/lib/python3.7/site-packages/openpyxl/styles/stylesheet.py:226: UserWarning: Workbook contains no default style, apply openpyxl's default\n",
      "  warn(\"Workbook contains no default style, apply openpyxl's default\")\n"
     ]
    },
    {
     "data": {
      "text/html": [
       "<div>\n",
       "<style scoped>\n",
       "    .dataframe tbody tr th:only-of-type {\n",
       "        vertical-align: middle;\n",
       "    }\n",
       "\n",
       "    .dataframe tbody tr th {\n",
       "        vertical-align: top;\n",
       "    }\n",
       "\n",
       "    .dataframe thead th {\n",
       "        text-align: right;\n",
       "    }\n",
       "</style>\n",
       "<table border=\"1\" class=\"dataframe\">\n",
       "  <thead>\n",
       "    <tr style=\"text-align: right;\">\n",
       "      <th></th>\n",
       "      <th>CO2</th>\n",
       "    </tr>\n",
       "  </thead>\n",
       "  <tbody>\n",
       "    <tr>\n",
       "      <th>count</th>\n",
       "      <td>86988.000000</td>\n",
       "    </tr>\n",
       "    <tr>\n",
       "      <th>mean</th>\n",
       "      <td>502.072148</td>\n",
       "    </tr>\n",
       "    <tr>\n",
       "      <th>std</th>\n",
       "      <td>262.967129</td>\n",
       "    </tr>\n",
       "    <tr>\n",
       "      <th>min</th>\n",
       "      <td>385.000000</td>\n",
       "    </tr>\n",
       "    <tr>\n",
       "      <th>25%</th>\n",
       "      <td>404.000000</td>\n",
       "    </tr>\n",
       "    <tr>\n",
       "      <th>50%</th>\n",
       "      <td>414.000000</td>\n",
       "    </tr>\n",
       "    <tr>\n",
       "      <th>75%</th>\n",
       "      <td>445.000000</td>\n",
       "    </tr>\n",
       "    <tr>\n",
       "      <th>max</th>\n",
       "      <td>2547.000000</td>\n",
       "    </tr>\n",
       "  </tbody>\n",
       "</table>\n",
       "</div>"
      ],
      "text/plain": [
       "                CO2\n",
       "count  86988.000000\n",
       "mean     502.072148\n",
       "std      262.967129\n",
       "min      385.000000\n",
       "25%      404.000000\n",
       "50%      414.000000\n",
       "75%      445.000000\n",
       "max     2547.000000"
      ]
     },
     "execution_count": 4,
     "metadata": {},
     "output_type": "execute_result"
    }
   ],
   "source": [
    "df_test_list = [pd.read_excel(month, index_col='Date_Time', parse_dates=True) \n",
    "                 for month in path_list[2:4]]\n",
    "df_test = pd.concat(df_test_list)\n",
    "\n",
    "# only use \"CO2\" in experiment\n",
    "X_test = df_test.drop(columns=['Temp', 'Humid'])\n",
    "X_test = X_test[~X_test.index.duplicated()]\n",
    "X_test.describe()"
   ]
  },
  {
   "cell_type": "code",
   "execution_count": 5,
   "id": "05e24065",
   "metadata": {
    "execution": {
     "iopub.execute_input": "2022-03-10T05:00:12.855288Z",
     "iopub.status.busy": "2022-03-10T05:00:12.854751Z",
     "iopub.status.idle": "2022-03-10T05:00:12.860149Z",
     "shell.execute_reply": "2022-03-10T05:00:12.859718Z",
     "shell.execute_reply.started": "2022-02-28T04:29:02.032639Z"
    },
    "papermill": {
     "duration": 0.040013,
     "end_time": "2022-03-10T05:00:12.860263",
     "exception": false,
     "start_time": "2022-03-10T05:00:12.820250",
     "status": "completed"
    },
    "tags": []
   },
   "outputs": [
    {
     "data": {
      "text/plain": [
       "CO2    437.0\n",
       "Name: 2018-03-01 01:00:00, dtype: float64"
      ]
     },
     "execution_count": 5,
     "metadata": {},
     "output_type": "execute_result"
    }
   ],
   "source": [
    "X_test.iloc[seq_size]"
   ]
  },
  {
   "cell_type": "code",
   "execution_count": 6,
   "id": "c504fdbf",
   "metadata": {
    "execution": {
     "iopub.execute_input": "2022-03-10T05:00:12.922148Z",
     "iopub.status.busy": "2022-03-10T05:00:12.921396Z",
     "iopub.status.idle": "2022-03-10T05:00:12.923341Z",
     "shell.execute_reply": "2022-03-10T05:00:12.923751Z",
     "shell.execute_reply.started": "2022-02-28T04:29:02.04199Z"
    },
    "papermill": {
     "duration": 0.034803,
     "end_time": "2022-03-10T05:00:12.923871",
     "exception": false,
     "start_time": "2022-03-10T05:00:12.889068",
     "status": "completed"
    },
    "tags": []
   },
   "outputs": [],
   "source": [
    "y_train = (X_train['CO2'] > ground_truth).astype(int)\n",
    "y_test = (X_test['CO2'] > ground_truth).astype(int)"
   ]
  },
  {
   "cell_type": "code",
   "execution_count": 7,
   "id": "bc114391",
   "metadata": {
    "execution": {
     "iopub.execute_input": "2022-03-10T05:00:12.984382Z",
     "iopub.status.busy": "2022-03-10T05:00:12.983659Z",
     "iopub.status.idle": "2022-03-10T05:00:12.985756Z",
     "shell.execute_reply": "2022-03-10T05:00:12.986218Z",
     "shell.execute_reply.started": "2022-02-28T05:18:09.718939Z"
    },
    "papermill": {
     "duration": 0.033565,
     "end_time": "2022-03-10T05:00:12.986351",
     "exception": false,
     "start_time": "2022-03-10T05:00:12.952786",
     "status": "completed"
    },
    "tags": []
   },
   "outputs": [],
   "source": [
    "# sum(X_train['CO2'] <= 1000)"
   ]
  },
  {
   "cell_type": "code",
   "execution_count": 8,
   "id": "6ac776ce",
   "metadata": {
    "execution": {
     "iopub.execute_input": "2022-03-10T05:00:13.048194Z",
     "iopub.status.busy": "2022-03-10T05:00:13.047414Z",
     "iopub.status.idle": "2022-03-10T05:00:13.050092Z",
     "shell.execute_reply": "2022-03-10T05:00:13.049600Z",
     "shell.execute_reply.started": "2022-02-28T05:51:58.89961Z"
    },
    "papermill": {
     "duration": 0.036004,
     "end_time": "2022-03-10T05:00:13.050241",
     "exception": false,
     "start_time": "2022-03-10T05:00:13.014237",
     "status": "completed"
    },
    "tags": []
   },
   "outputs": [],
   "source": [
    "# seq_size = 10\n",
    "def to_seq(x,seq_size=seq_size):\n",
    "    '''\n",
    "    assign the label (y) to be the label of the next point of the sequence, not the last opint of the sequence.\n",
    "    '''\n",
    "    x_values = []\n",
    "#     y_values = []\n",
    "    \n",
    "    for i in range(len(x) - seq_size + 1):\n",
    "        x_values.append(x[i:(i+seq_size)])\n",
    "#         y_values.append(y.iloc[i+seq_size])\n",
    "#         y_values.append(y.iloc[i+seq_size])\n",
    "        \n",
    "    return np.array(x_values)#, np.array(y_values)"
   ]
  },
  {
   "cell_type": "code",
   "execution_count": 9,
   "id": "6f3a7069",
   "metadata": {
    "execution": {
     "iopub.execute_input": "2022-03-10T05:00:13.110488Z",
     "iopub.status.busy": "2022-03-10T05:00:13.109781Z",
     "iopub.status.idle": "2022-03-10T05:00:13.445355Z",
     "shell.execute_reply": "2022-03-10T05:00:13.445953Z",
     "shell.execute_reply.started": "2022-02-28T05:52:15.438856Z"
    },
    "papermill": {
     "duration": 0.368736,
     "end_time": "2022-03-10T05:00:13.446168",
     "exception": false,
     "start_time": "2022-03-10T05:00:13.077432",
     "status": "completed"
    },
    "tags": []
   },
   "outputs": [
    {
     "name": "stdout",
     "output_type": "stream",
     "text": [
      "[433.63424705] [4453.36289695]\n",
      "(81075, 60, 1) (86929, 60, 1)\n"
     ]
    }
   ],
   "source": [
    "from sklearn.model_selection import train_test_split\n",
    "from sklearn.preprocessing import StandardScaler\n",
    "X_train_y0 = X_train[X_train['CO2'] <= ground_truth]\n",
    "\n",
    "scaler = StandardScaler()\n",
    "X_train_y0_scaled = scaler.fit_transform(X_train_y0)\n",
    "X_test_scaled = scaler.transform(X_test)\n",
    "print(scaler.mean_, scaler.var_)\n",
    "# sequentialize training and test set\n",
    "train_X = to_seq(X_train_y0_scaled)\n",
    "test_X = to_seq(X_test_scaled)\n",
    "print(train_X.shape, test_X.shape)\n",
    "\n",
    "# train_X, train_y = to_seq(X_train[['CO2']], y_train)\n",
    "# test_X, test_y = to_seq(X_test[['CO2']], y_test)\n",
    "# indices = np.all(np.all(train_X <= 1000, axis=1) == True, axis=1)\n",
    "# train_X_selective = train_X[indices]\n",
    "# train_y_selective = train_y[indices]\n",
    "# train_X_y0 = train_X_selective[train_y_selective == 0]\n",
    "# train_X_y1 = train_X_selective[train_y_selective == 1]"
   ]
  },
  {
   "cell_type": "code",
   "execution_count": 10,
   "id": "26ccafa3",
   "metadata": {
    "execution": {
     "iopub.execute_input": "2022-03-10T05:00:13.511184Z",
     "iopub.status.busy": "2022-03-10T05:00:13.510381Z",
     "iopub.status.idle": "2022-03-10T05:00:13.512768Z",
     "shell.execute_reply": "2022-03-10T05:00:13.512255Z",
     "shell.execute_reply.started": "2022-02-28T05:41:32.340361Z"
    },
    "papermill": {
     "duration": 0.037559,
     "end_time": "2022-03-10T05:00:13.512875",
     "exception": false,
     "start_time": "2022-03-10T05:00:13.475316",
     "status": "completed"
    },
    "tags": []
   },
   "outputs": [],
   "source": [
    "from sklearn.model_selection import train_test_split\n",
    "from sklearn.preprocessing import StandardScaler\n",
    "\n",
    "def flatten(X, seq_lenth):\n",
    "    flatten_X = np.empty((X.shape[0]+seq_lenth-1, X.shape[2]))\n",
    "    flatten_X[:seq_lenth-1] = X[0, :seq_lenth-1, :]\n",
    "    for i in range(X.shape[0]):\n",
    "        flatten_X[i+seq_lenth-1] = X[i, seq_lenth-1, :]\n",
    "    return flatten_X\n",
    "\n",
    "def scale(X, scaler):\n",
    "    X_scaled = np.empty(X.shape)\n",
    "    for i in range(X.shape[0]):\n",
    "        X_scaled[i] = scaler.transform(X[i])\n",
    "        \n",
    "    return X_scaled\n",
    "\n",
    "def inverseScale(X, scaler):\n",
    "    X_scaled = np.empty(X.shape)\n",
    "    for i in range(X.shape[0]):\n",
    "        X_scaled[i] = scaler.inverse_transform(X[i])\n",
    "        \n",
    "    return X_scaled"
   ]
  },
  {
   "cell_type": "code",
   "execution_count": 11,
   "id": "7601991a",
   "metadata": {
    "execution": {
     "iopub.execute_input": "2022-03-10T05:00:13.574488Z",
     "iopub.status.busy": "2022-03-10T05:00:13.573343Z",
     "iopub.status.idle": "2022-03-10T05:00:13.575161Z",
     "shell.execute_reply": "2022-03-10T05:00:13.575577Z",
     "shell.execute_reply.started": "2022-02-28T05:49:39.368755Z"
    },
    "papermill": {
     "duration": 0.034303,
     "end_time": "2022-03-10T05:00:13.575718",
     "exception": false,
     "start_time": "2022-03-10T05:00:13.541415",
     "status": "completed"
    },
    "tags": []
   },
   "outputs": [],
   "source": [
    "# scaler = StandardScaler().fit(flatten(train_X_y0, seq_size))\n",
    "# print(scaler.mean_, scaler.var_)\n",
    "# train_X_y0_scaled = scale(train_X_y0, scaler)\n",
    "# print(train_X_y0_scaled.shape)\n",
    "\n",
    "# test_X_scaled = scale(test_X, scaler)"
   ]
  },
  {
   "cell_type": "markdown",
   "id": "c00bed87",
   "metadata": {
    "papermill": {
     "duration": 0.030344,
     "end_time": "2022-03-10T05:00:13.634723",
     "exception": false,
     "start_time": "2022-03-10T05:00:13.604379",
     "status": "completed"
    },
    "tags": []
   },
   "source": [
    "## Autoencoder LSTM"
   ]
  },
  {
   "cell_type": "code",
   "execution_count": 12,
   "id": "23fe1ac5",
   "metadata": {
    "execution": {
     "iopub.execute_input": "2022-03-10T05:00:13.693715Z",
     "iopub.status.busy": "2022-03-10T05:00:13.692907Z",
     "iopub.status.idle": "2022-03-10T05:00:20.869607Z",
     "shell.execute_reply": "2022-03-10T05:00:20.870324Z",
     "shell.execute_reply.started": "2022-02-28T05:41:51.226549Z"
    },
    "papermill": {
     "duration": 7.207894,
     "end_time": "2022-03-10T05:00:20.870486",
     "exception": false,
     "start_time": "2022-03-10T05:00:13.662592",
     "status": "completed"
    },
    "tags": []
   },
   "outputs": [
    {
     "name": "stderr",
     "output_type": "stream",
     "text": [
      "2022-03-10 05:00:18.242164: I tensorflow/stream_executor/cuda/cuda_gpu_executor.cc:937] successful NUMA node read from SysFS had negative value (-1), but there must be at least one NUMA node, so returning NUMA node zero\n",
      "2022-03-10 05:00:18.342740: I tensorflow/stream_executor/cuda/cuda_gpu_executor.cc:937] successful NUMA node read from SysFS had negative value (-1), but there must be at least one NUMA node, so returning NUMA node zero\n",
      "2022-03-10 05:00:18.343524: I tensorflow/stream_executor/cuda/cuda_gpu_executor.cc:937] successful NUMA node read from SysFS had negative value (-1), but there must be at least one NUMA node, so returning NUMA node zero\n",
      "2022-03-10 05:00:18.344751: I tensorflow/core/platform/cpu_feature_guard.cc:142] This TensorFlow binary is optimized with oneAPI Deep Neural Network Library (oneDNN) to use the following CPU instructions in performance-critical operations:  AVX2 AVX512F FMA\n",
      "To enable them in other operations, rebuild TensorFlow with the appropriate compiler flags.\n",
      "2022-03-10 05:00:18.345722: I tensorflow/stream_executor/cuda/cuda_gpu_executor.cc:937] successful NUMA node read from SysFS had negative value (-1), but there must be at least one NUMA node, so returning NUMA node zero\n",
      "2022-03-10 05:00:18.346404: I tensorflow/stream_executor/cuda/cuda_gpu_executor.cc:937] successful NUMA node read from SysFS had negative value (-1), but there must be at least one NUMA node, so returning NUMA node zero\n",
      "2022-03-10 05:00:18.347012: I tensorflow/stream_executor/cuda/cuda_gpu_executor.cc:937] successful NUMA node read from SysFS had negative value (-1), but there must be at least one NUMA node, so returning NUMA node zero\n",
      "2022-03-10 05:00:20.071794: I tensorflow/stream_executor/cuda/cuda_gpu_executor.cc:937] successful NUMA node read from SysFS had negative value (-1), but there must be at least one NUMA node, so returning NUMA node zero\n",
      "2022-03-10 05:00:20.072630: I tensorflow/stream_executor/cuda/cuda_gpu_executor.cc:937] successful NUMA node read from SysFS had negative value (-1), but there must be at least one NUMA node, so returning NUMA node zero\n",
      "2022-03-10 05:00:20.073358: I tensorflow/stream_executor/cuda/cuda_gpu_executor.cc:937] successful NUMA node read from SysFS had negative value (-1), but there must be at least one NUMA node, so returning NUMA node zero\n",
      "2022-03-10 05:00:20.073979: I tensorflow/core/common_runtime/gpu/gpu_device.cc:1510] Created device /job:localhost/replica:0/task:0/device:GPU:0 with 15403 MB memory:  -> device: 0, name: Tesla P100-PCIE-16GB, pci bus id: 0000:00:04.0, compute capability: 6.0\n"
     ]
    },
    {
     "name": "stdout",
     "output_type": "stream",
     "text": [
      "Model: \"sequential\"\n",
      "_________________________________________________________________\n",
      "Layer (type)                 Output Shape              Param #   \n",
      "=================================================================\n",
      "lstm (LSTM)                  (None, 16)                1152      \n",
      "_________________________________________________________________\n",
      "dropout (Dropout)            (None, 16)                0         \n",
      "_________________________________________________________________\n",
      "repeat_vector (RepeatVector) (None, 60, 16)            0         \n",
      "_________________________________________________________________\n",
      "lstm_1 (LSTM)                (None, 60, 16)            2112      \n",
      "_________________________________________________________________\n",
      "dropout_1 (Dropout)          (None, 60, 16)            0         \n",
      "_________________________________________________________________\n",
      "time_distributed (TimeDistri (None, 60, 1)             17        \n",
      "=================================================================\n",
      "Total params: 3,281\n",
      "Trainable params: 3,281\n",
      "Non-trainable params: 0\n",
      "_________________________________________________________________\n"
     ]
    }
   ],
   "source": [
    "from tensorflow.keras import layers, Sequential, Model\n",
    "from tensorflow.keras.callbacks import EarlyStopping\n",
    "from tensorflow.keras import backend as K\n",
    "from tensorflow.keras.utils import plot_model\n",
    "\n",
    "callback = EarlyStopping(patience=3, mode='min')\n",
    "\n",
    "units = 16\n",
    "model = Sequential()\n",
    "model.add(layers.LSTM(units, activation='tanh', input_shape=(train_X.shape[1], train_X.shape[2])))\n",
    "model.add(layers.Dropout(rate=0.2))\n",
    "model.add(layers.RepeatVector(train_X.shape[1]))\n",
    "model.add(layers.LSTM(units, activation='tanh', return_sequences=True))\n",
    "model.add(layers.Dropout(rate=0.2))\n",
    "model.add(layers.TimeDistributed(layers.Dense(train_X.shape[2])))\n",
    "model.compile(optimizer='adam', loss='mse')\n",
    "model.summary()"
   ]
  },
  {
   "cell_type": "code",
   "execution_count": 13,
   "id": "6546c391",
   "metadata": {
    "execution": {
     "iopub.execute_input": "2022-03-10T05:00:20.933105Z",
     "iopub.status.busy": "2022-03-10T05:00:20.932492Z",
     "iopub.status.idle": "2022-03-10T05:08:51.827109Z",
     "shell.execute_reply": "2022-03-10T05:08:51.826422Z",
     "shell.execute_reply.started": "2022-02-28T05:52:25.301353Z"
    },
    "papermill": {
     "duration": 510.927534,
     "end_time": "2022-03-10T05:08:51.827293",
     "exception": false,
     "start_time": "2022-03-10T05:00:20.899759",
     "status": "completed"
    },
    "tags": []
   },
   "outputs": [
    {
     "name": "stderr",
     "output_type": "stream",
     "text": [
      "2022-03-10 05:00:21.036551: I tensorflow/compiler/mlir/mlir_graph_optimization_pass.cc:185] None of the MLIR Optimization Passes are enabled (registered 2)\n"
     ]
    },
    {
     "name": "stdout",
     "output_type": "stream",
     "text": [
      "Epoch 1/50\n"
     ]
    },
    {
     "name": "stderr",
     "output_type": "stream",
     "text": [
      "2022-03-10 05:00:24.126788: I tensorflow/stream_executor/cuda/cuda_dnn.cc:369] Loaded cuDNN version 8005\n"
     ]
    },
    {
     "name": "stdout",
     "output_type": "stream",
     "text": [
      "2027/2027 [==============================] - 22s 9ms/step - loss: 0.1515 - val_loss: 0.2952\n",
      "Epoch 2/50\n",
      "2027/2027 [==============================] - 16s 8ms/step - loss: 0.0983 - val_loss: 0.1912\n",
      "Epoch 3/50\n",
      "2027/2027 [==============================] - 17s 8ms/step - loss: 0.0790 - val_loss: 0.1580\n",
      "Epoch 4/50\n",
      "2027/2027 [==============================] - 16s 8ms/step - loss: 0.0696 - val_loss: 0.1579\n",
      "Epoch 5/50\n",
      "2027/2027 [==============================] - 16s 8ms/step - loss: 0.0630 - val_loss: 0.1521\n",
      "Epoch 6/50\n",
      "2027/2027 [==============================] - 16s 8ms/step - loss: 0.0596 - val_loss: 0.1271\n",
      "Epoch 7/50\n",
      "2027/2027 [==============================] - 16s 8ms/step - loss: 0.0566 - val_loss: 0.1371\n",
      "Epoch 8/50\n",
      "2027/2027 [==============================] - 16s 8ms/step - loss: 0.0536 - val_loss: 0.1410\n",
      "Epoch 9/50\n",
      "2027/2027 [==============================] - 17s 8ms/step - loss: 0.0530 - val_loss: 0.1214\n",
      "Epoch 10/50\n",
      "2027/2027 [==============================] - 16s 8ms/step - loss: 0.0518 - val_loss: 0.1169\n",
      "Epoch 11/50\n",
      "2027/2027 [==============================] - 16s 8ms/step - loss: 0.0489 - val_loss: 0.1099\n",
      "Epoch 12/50\n",
      "2027/2027 [==============================] - 16s 8ms/step - loss: 0.0486 - val_loss: 0.1085\n",
      "Epoch 13/50\n",
      "2027/2027 [==============================] - 16s 8ms/step - loss: 0.0463 - val_loss: 0.1075\n",
      "Epoch 14/50\n",
      "2027/2027 [==============================] - 16s 8ms/step - loss: 0.0459 - val_loss: 0.1066\n",
      "Epoch 15/50\n",
      "2027/2027 [==============================] - 16s 8ms/step - loss: 0.0460 - val_loss: 0.1074\n",
      "Epoch 16/50\n",
      "2027/2027 [==============================] - 17s 8ms/step - loss: 0.0458 - val_loss: 0.1084\n",
      "Epoch 17/50\n",
      "2027/2027 [==============================] - 16s 8ms/step - loss: 0.0445 - val_loss: 0.1042\n",
      "Epoch 18/50\n",
      "2027/2027 [==============================] - 17s 8ms/step - loss: 0.0444 - val_loss: 0.1082\n",
      "Epoch 19/50\n",
      "2027/2027 [==============================] - 16s 8ms/step - loss: 0.0434 - val_loss: 0.1037\n",
      "Epoch 20/50\n",
      "2027/2027 [==============================] - 17s 8ms/step - loss: 0.0426 - val_loss: 0.0964\n",
      "Epoch 21/50\n",
      "2027/2027 [==============================] - 16s 8ms/step - loss: 0.0429 - val_loss: 0.1105\n",
      "Epoch 22/50\n",
      "2027/2027 [==============================] - 17s 8ms/step - loss: 0.0419 - val_loss: 0.1046\n",
      "Epoch 23/50\n",
      "2027/2027 [==============================] - 16s 8ms/step - loss: 0.0421 - val_loss: 0.0961\n",
      "Epoch 24/50\n",
      "2027/2027 [==============================] - 17s 8ms/step - loss: 0.0409 - val_loss: 0.0912\n",
      "Epoch 25/50\n",
      "2027/2027 [==============================] - 15s 8ms/step - loss: 0.0403 - val_loss: 0.0845\n",
      "Epoch 26/50\n",
      "2027/2027 [==============================] - 18s 9ms/step - loss: 0.0408 - val_loss: 0.0887\n",
      "Epoch 27/50\n",
      "2027/2027 [==============================] - 15s 8ms/step - loss: 0.0404 - val_loss: 0.0917\n",
      "Epoch 28/50\n",
      "2027/2027 [==============================] - 17s 9ms/step - loss: 0.0394 - val_loss: 0.0830\n",
      "Epoch 29/50\n",
      "2027/2027 [==============================] - 15s 8ms/step - loss: 0.0397 - val_loss: 0.0877\n",
      "Epoch 30/50\n",
      "2027/2027 [==============================] - 18s 9ms/step - loss: 0.0393 - val_loss: 0.0909\n",
      "Epoch 31/50\n",
      "2027/2027 [==============================] - 16s 8ms/step - loss: 0.0387 - val_loss: 0.0894\n"
     ]
    }
   ],
   "source": [
    "history = model.fit(train_X, train_X, batch_size=32, epochs=50, validation_split=0.2, callbacks=[callback])"
   ]
  },
  {
   "cell_type": "code",
   "execution_count": 14,
   "id": "c0cbe7cc",
   "metadata": {
    "execution": {
     "iopub.execute_input": "2022-03-10T05:08:56.851249Z",
     "iopub.status.busy": "2022-03-10T05:08:56.850648Z",
     "iopub.status.idle": "2022-03-10T05:09:45.302280Z",
     "shell.execute_reply": "2022-03-10T05:09:45.302703Z",
     "shell.execute_reply.started": "2022-02-28T05:57:18.015617Z"
    },
    "papermill": {
     "duration": 51.103012,
     "end_time": "2022-03-10T05:09:45.302881",
     "exception": false,
     "start_time": "2022-03-10T05:08:54.199869",
     "status": "completed"
    },
    "tags": []
   },
   "outputs": [],
   "source": [
    "def meanTrend(y_pred):\n",
    "    length = y_pred.shape[0]\n",
    "    width = y_pred.shape[1]\n",
    "    y = y_pred.reshape(length, width)\n",
    "    print(y.shape)\n",
    "    zero_arr = np.zeros((length, length+width-1))\n",
    "    print(zero_arr.shape)\n",
    "    for i in range(length):\n",
    "        zero_arr[i, i:i+width] = y[i,:]\n",
    "    print(zero_arr[0])\n",
    "    print(zero_arr[-1])\n",
    "    err_arr = np.true_divide(zero_arr.sum(0), (zero_arr!=0).sum(0))\n",
    "    return err_arr.reshape(1, -1)"
   ]
  },
  {
   "cell_type": "code",
   "execution_count": 15,
   "id": "7adfec35",
   "metadata": {
    "execution": {
     "iopub.execute_input": "2022-03-10T05:09:49.952217Z",
     "iopub.status.busy": "2022-03-10T05:09:49.951169Z",
     "iopub.status.idle": "2022-03-10T05:10:24.614468Z",
     "shell.execute_reply": "2022-03-10T05:10:24.615181Z",
     "shell.execute_reply.started": "2022-02-28T05:57:19.367318Z"
    },
    "papermill": {
     "duration": 36.894611,
     "end_time": "2022-03-10T05:10:24.615383",
     "exception": false,
     "start_time": "2022-03-10T05:09:47.720772",
     "status": "completed"
    },
    "tags": []
   },
   "outputs": [
    {
     "name": "stdout",
     "output_type": "stream",
     "text": [
      "(81075, 60)\n",
      "(81075, 81134)\n",
      "[-0.27513266 -0.29765818 -0.3005487  ...  0.          0.\n",
      "  0.        ]\n",
      "[0.         0.         0.         ... 0.08059728 0.08042189 0.080246  ]\n",
      "(81075, 60, 1) (1, 81134)\n"
     ]
    }
   ],
   "source": [
    "train_X_pred = model.predict(train_X)\n",
    "train_X_flatten_pred = meanTrend(train_X_pred)\n",
    "print(train_X_pred.shape, train_X_flatten_pred.shape)"
   ]
  },
  {
   "cell_type": "code",
   "execution_count": 16,
   "id": "efce1caa",
   "metadata": {
    "execution": {
     "iopub.execute_input": "2022-03-10T05:10:29.057094Z",
     "iopub.status.busy": "2022-03-10T05:10:29.056234Z",
     "iopub.status.idle": "2022-03-10T05:10:29.058598Z",
     "shell.execute_reply": "2022-03-10T05:10:29.058086Z",
     "shell.execute_reply.started": "2022-02-28T05:47:22.478899Z"
    },
    "papermill": {
     "duration": 2.202191,
     "end_time": "2022-03-10T05:10:29.058709",
     "exception": false,
     "start_time": "2022-03-10T05:10:26.856518",
     "status": "completed"
    },
    "tags": []
   },
   "outputs": [],
   "source": [
    "# train_X_flatten_pred = flatten(train_X_pred, seq_size)\n",
    "#train_X_flatten_pred = meanTrend(train_X_pred)\n",
    "# train_X_y0_flatten = flatten(train_X_y0_scaled, seq_size)"
   ]
  },
  {
   "cell_type": "code",
   "execution_count": 17,
   "id": "70501498",
   "metadata": {
    "execution": {
     "iopub.execute_input": "2022-03-10T05:10:33.939508Z",
     "iopub.status.busy": "2022-03-10T05:10:33.938086Z",
     "iopub.status.idle": "2022-03-10T05:10:33.940227Z",
     "shell.execute_reply": "2022-03-10T05:10:33.938776Z",
     "shell.execute_reply.started": "2022-02-28T05:47:22.484211Z"
    },
    "papermill": {
     "duration": 2.416791,
     "end_time": "2022-03-10T05:10:33.940383",
     "exception": false,
     "start_time": "2022-03-10T05:10:31.523592",
     "status": "completed"
    },
    "tags": []
   },
   "outputs": [],
   "source": [
    "# print(train_X_flatten_pred.shape)\n",
    "# print(train_X_y0_flatten.shape)"
   ]
  },
  {
   "cell_type": "code",
   "execution_count": 18,
   "id": "b01ecfd0",
   "metadata": {
    "execution": {
     "iopub.execute_input": "2022-03-10T05:10:38.612810Z",
     "iopub.status.busy": "2022-03-10T05:10:38.612199Z",
     "iopub.status.idle": "2022-03-10T05:10:38.615150Z",
     "shell.execute_reply": "2022-03-10T05:10:38.615561Z",
     "shell.execute_reply.started": "2022-02-28T06:00:09.180215Z"
    },
    "papermill": {
     "duration": 2.206159,
     "end_time": "2022-03-10T05:10:38.615691",
     "exception": false,
     "start_time": "2022-03-10T05:10:36.409532",
     "status": "completed"
    },
    "tags": []
   },
   "outputs": [
    {
     "data": {
      "text/plain": [
       "array([[-0.27513266, -0.28616379, -0.29062714, ...,  0.08012132,\n",
       "         0.08019082,  0.080246  ]])"
      ]
     },
     "execution_count": 18,
     "metadata": {},
     "output_type": "execute_result"
    }
   ],
   "source": [
    "train_X_flatten_pred"
   ]
  },
  {
   "cell_type": "code",
   "execution_count": 19,
   "id": "2a9b7bef",
   "metadata": {
    "execution": {
     "iopub.execute_input": "2022-03-10T05:10:43.354484Z",
     "iopub.status.busy": "2022-03-10T05:10:43.353778Z",
     "iopub.status.idle": "2022-03-10T05:10:43.356562Z",
     "shell.execute_reply": "2022-03-10T05:10:43.356956Z",
     "shell.execute_reply.started": "2022-02-28T06:00:04.468307Z"
    },
    "papermill": {
     "duration": 2.523967,
     "end_time": "2022-03-10T05:10:43.357104",
     "exception": false,
     "start_time": "2022-03-10T05:10:40.833137",
     "status": "completed"
    },
    "tags": []
   },
   "outputs": [
    {
     "data": {
      "text/plain": [
       "(81134, 1)"
      ]
     },
     "execution_count": 19,
     "metadata": {},
     "output_type": "execute_result"
    }
   ],
   "source": [
    "X_train_y0_scaled.shape"
   ]
  },
  {
   "cell_type": "code",
   "execution_count": 20,
   "id": "71dd3f2f",
   "metadata": {
    "execution": {
     "iopub.execute_input": "2022-03-10T05:10:47.699297Z",
     "iopub.status.busy": "2022-03-10T05:10:47.698658Z",
     "iopub.status.idle": "2022-03-10T05:10:47.705815Z",
     "shell.execute_reply": "2022-03-10T05:10:47.705413Z",
     "shell.execute_reply.started": "2022-02-28T06:02:01.799679Z"
    },
    "papermill": {
     "duration": 2.178399,
     "end_time": "2022-03-10T05:10:47.705933",
     "exception": false,
     "start_time": "2022-03-10T05:10:45.527534",
     "status": "completed"
    },
    "tags": []
   },
   "outputs": [
    {
     "name": "stdout",
     "output_type": "stream",
     "text": [
      "threshold = 4.233\n"
     ]
    },
    {
     "data": {
      "text/plain": [
       "(81134,)"
      ]
     },
     "execution_count": 20,
     "metadata": {},
     "output_type": "execute_result"
    }
   ],
   "source": [
    "from sklearn.metrics import mean_absolute_error\n",
    "# mae = np.mean(np.abs(train_X_flatten_pred - train_X_y0_flatten), axis=1)\n",
    "mae = mean_absolute_error(X_train_y0_scaled.T, train_X_flatten_pred, multioutput='raw_values')\n",
    "threshold = np.max(mae)\n",
    "# threshold = np.percentile(mae, 95)\n",
    "print(f\"threshold = {threshold:.3f}\")\n",
    "mae.shape"
   ]
  },
  {
   "cell_type": "code",
   "execution_count": 21,
   "id": "b91607c5",
   "metadata": {
    "execution": {
     "iopub.execute_input": "2022-03-10T05:10:52.124293Z",
     "iopub.status.busy": "2022-03-10T05:10:52.123393Z",
     "iopub.status.idle": "2022-03-10T05:10:52.125041Z",
     "shell.execute_reply": "2022-03-10T05:10:52.125535Z",
     "shell.execute_reply.started": "2022-02-02T06:13:34.299858Z"
    },
    "papermill": {
     "duration": 2.195349,
     "end_time": "2022-03-10T05:10:52.125675",
     "exception": false,
     "start_time": "2022-03-10T05:10:49.930326",
     "status": "completed"
    },
    "tags": []
   },
   "outputs": [],
   "source": [
    "# mae = np.mean(np.abs(train_X_pred - train_X_y0_scaled), axis=1)\n",
    "# threshold = np.max(mae)\n",
    "# # threshold = np.percentile(mae, 95)\n",
    "# print(f\"threshold = {threshold:.3f}\")\n",
    "# mae.shape"
   ]
  },
  {
   "cell_type": "code",
   "execution_count": 22,
   "id": "ce0ce412",
   "metadata": {
    "execution": {
     "iopub.execute_input": "2022-03-10T05:10:56.785001Z",
     "iopub.status.busy": "2022-03-10T05:10:56.784123Z",
     "iopub.status.idle": "2022-03-10T05:10:57.067838Z",
     "shell.execute_reply": "2022-03-10T05:10:57.068477Z",
     "shell.execute_reply.started": "2022-02-28T06:02:18.745378Z"
    },
    "papermill": {
     "duration": 2.465048,
     "end_time": "2022-03-10T05:10:57.068634",
     "exception": false,
     "start_time": "2022-03-10T05:10:54.603586",
     "status": "completed"
    },
    "tags": []
   },
   "outputs": [
    {
     "data": {
      "image/png": "[encoded data removed]",
      "text/plain": [
       "<Figure size 432x288 with 1 Axes>"
      ]
     },
     "metadata": {
      "needs_background": "light"
     },
     "output_type": "display_data"
    }
   ],
   "source": [
    "# plot MAE loss distribution of training set\n",
    "plt.hist(np.squeeze(mae), bins=30, label='MAE Loss')\n",
    "plt.legend()\n",
    "plt.show()"
   ]
  },
  {
   "cell_type": "code",
   "execution_count": 23,
   "id": "fdd7999d",
   "metadata": {
    "execution": {
     "iopub.execute_input": "2022-03-10T05:11:01.501791Z",
     "iopub.status.busy": "2022-03-10T05:11:01.500713Z",
     "iopub.status.idle": "2022-03-10T05:11:36.742104Z",
     "shell.execute_reply": "2022-03-10T05:11:36.742536Z",
     "shell.execute_reply.started": "2022-02-28T06:04:32.300028Z"
    },
    "papermill": {
     "duration": 37.469287,
     "end_time": "2022-03-10T05:11:36.742708",
     "exception": false,
     "start_time": "2022-03-10T05:10:59.273421",
     "status": "completed"
    },
    "tags": []
   },
   "outputs": [
    {
     "name": "stdout",
     "output_type": "stream",
     "text": [
      "(86929, 60)\n",
      "(86929, 86988)\n",
      "[0.06298837 0.06972422 0.05817501 ... 0.         0.         0.        ]\n",
      "[0.         0.         0.         ... 1.90962338 1.894382   1.87955332]\n"
     ]
    }
   ],
   "source": [
    "test_X_pred = model.predict(test_X)\n",
    "# test_X_flatten_pred = flatten(test_X_pred, seq_size)\n",
    "test_X_flatten_pred = meanTrend(test_X_pred)\n",
    "# test_X_flatten = flatten(test_X_scaled, seq_size)\n",
    "# mae_test = np.mean(np.abs(test_X_flatten_pred - test_X_flatten), axis=1)"
   ]
  },
  {
   "cell_type": "code",
   "execution_count": 24,
   "id": "fee35644",
   "metadata": {
    "execution": {
     "iopub.execute_input": "2022-03-10T05:11:41.835246Z",
     "iopub.status.busy": "2022-03-10T05:11:41.833893Z",
     "iopub.status.idle": "2022-03-10T05:11:41.838540Z",
     "shell.execute_reply": "2022-03-10T05:11:41.839072Z",
     "shell.execute_reply.started": "2022-02-28T06:08:18.60694Z"
    },
    "papermill": {
     "duration": 2.638049,
     "end_time": "2022-03-10T05:11:41.839220",
     "exception": false,
     "start_time": "2022-03-10T05:11:39.201171",
     "status": "completed"
    },
    "tags": []
   },
   "outputs": [
    {
     "data": {
      "text/plain": [
       "(86988,)"
      ]
     },
     "execution_count": 24,
     "metadata": {},
     "output_type": "execute_result"
    }
   ],
   "source": [
    "mae_test = mean_absolute_error(X_test_scaled.T, test_X_flatten_pred, multioutput='raw_values')\n",
    "mae_test.shape"
   ]
  },
  {
   "cell_type": "code",
   "execution_count": 25,
   "id": "23902747",
   "metadata": {
    "execution": {
     "iopub.execute_input": "2022-03-10T05:11:46.321298Z",
     "iopub.status.busy": "2022-03-10T05:11:46.320425Z",
     "iopub.status.idle": "2022-03-10T05:11:46.598352Z",
     "shell.execute_reply": "2022-03-10T05:11:46.598853Z",
     "shell.execute_reply.started": "2022-02-28T06:17:35.012127Z"
    },
    "papermill": {
     "duration": 2.507365,
     "end_time": "2022-03-10T05:11:46.598996",
     "exception": false,
     "start_time": "2022-03-10T05:11:44.091631",
     "status": "completed"
    },
    "tags": []
   },
   "outputs": [
    {
     "data": {
      "image/png": "[encoded data removed]",
      "text/plain": [
       "<Figure size 360x288 with 1 Axes>"
      ]
     },
     "metadata": {
      "needs_background": "light"
     },
     "output_type": "display_data"
    }
   ],
   "source": [
    "# plot MAE loss distribution of test set\n",
    "plt.figure(figsize=(5,4))\n",
    "plt.hist(mae_test, bins=50, label=\"MAE loss\")\n",
    "plt.axvline(x=threshold, color='r', ls='--', label='threshold')\n",
    "plt.xlabel(\"test dataset MAE loss\")\n",
    "plt.ylabel(\"No of samples\")\n",
    "plt.legend()\n",
    "plt.show()"
   ]
  },
  {
   "cell_type": "code",
   "execution_count": 26,
   "id": "90bbf270",
   "metadata": {
    "execution": {
     "iopub.execute_input": "2022-03-10T05:11:51.485432Z",
     "iopub.status.busy": "2022-03-10T05:11:51.484558Z",
     "iopub.status.idle": "2022-03-10T05:11:51.502871Z",
     "shell.execute_reply": "2022-03-10T05:11:51.503340Z",
     "shell.execute_reply.started": "2022-02-28T06:10:02.646886Z"
    },
    "papermill": {
     "duration": 2.317287,
     "end_time": "2022-03-10T05:11:51.503503",
     "exception": false,
     "start_time": "2022-03-10T05:11:49.186216",
     "status": "completed"
    },
    "tags": []
   },
   "outputs": [
    {
     "name": "stdout",
     "output_type": "stream",
     "text": [
      "(86988, 1)\n"
     ]
    },
    {
     "data": {
      "text/html": [
       "<div>\n",
       "<style scoped>\n",
       "    .dataframe tbody tr th:only-of-type {\n",
       "        vertical-align: middle;\n",
       "    }\n",
       "\n",
       "    .dataframe tbody tr th {\n",
       "        vertical-align: top;\n",
       "    }\n",
       "\n",
       "    .dataframe thead th {\n",
       "        text-align: right;\n",
       "    }\n",
       "</style>\n",
       "<table border=\"1\" class=\"dataframe\">\n",
       "  <thead>\n",
       "    <tr style=\"text-align: right;\">\n",
       "      <th></th>\n",
       "      <th>CO2</th>\n",
       "      <th>loss</th>\n",
       "      <th>threshold</th>\n",
       "      <th>anomaly</th>\n",
       "      <th>label</th>\n",
       "    </tr>\n",
       "    <tr>\n",
       "      <th>Date_Time</th>\n",
       "      <th></th>\n",
       "      <th></th>\n",
       "      <th></th>\n",
       "      <th></th>\n",
       "      <th></th>\n",
       "    </tr>\n",
       "  </thead>\n",
       "  <tbody>\n",
       "    <tr>\n",
       "      <th>2018-03-01 00:00:00</th>\n",
       "      <td>439.0</td>\n",
       "      <td>0.017417</td>\n",
       "      <td>4.232662</td>\n",
       "      <td>0</td>\n",
       "      <td>0</td>\n",
       "    </tr>\n",
       "    <tr>\n",
       "      <th>2018-03-01 00:01:00</th>\n",
       "      <td>438.0</td>\n",
       "      <td>0.000555</td>\n",
       "      <td>4.232662</td>\n",
       "      <td>0</td>\n",
       "      <td>0</td>\n",
       "    </tr>\n",
       "    <tr>\n",
       "      <th>2018-03-01 00:02:00</th>\n",
       "      <td>439.0</td>\n",
       "      <td>0.017415</td>\n",
       "      <td>4.232662</td>\n",
       "      <td>0</td>\n",
       "      <td>0</td>\n",
       "    </tr>\n",
       "    <tr>\n",
       "      <th>2018-03-01 00:03:00</th>\n",
       "      <td>439.0</td>\n",
       "      <td>0.019780</td>\n",
       "      <td>4.232662</td>\n",
       "      <td>0</td>\n",
       "      <td>0</td>\n",
       "    </tr>\n",
       "    <tr>\n",
       "      <th>2018-03-01 00:04:00</th>\n",
       "      <td>439.0</td>\n",
       "      <td>0.020546</td>\n",
       "      <td>4.232662</td>\n",
       "      <td>0</td>\n",
       "      <td>0</td>\n",
       "    </tr>\n",
       "  </tbody>\n",
       "</table>\n",
       "</div>"
      ],
      "text/plain": [
       "                       CO2      loss  threshold  anomaly  label\n",
       "Date_Time                                                      \n",
       "2018-03-01 00:00:00  439.0  0.017417   4.232662        0      0\n",
       "2018-03-01 00:01:00  438.0  0.000555   4.232662        0      0\n",
       "2018-03-01 00:02:00  439.0  0.017415   4.232662        0      0\n",
       "2018-03-01 00:03:00  439.0  0.019780   4.232662        0      0\n",
       "2018-03-01 00:04:00  439.0  0.020546   4.232662        0      0"
      ]
     },
     "execution_count": 26,
     "metadata": {},
     "output_type": "execute_result"
    }
   ],
   "source": [
    "# test_score_df = pd.DataFrame(X_test[seq_size:])\n",
    "test_score_df = X_test.copy()\n",
    "# test_score_df = test_score_df.iloc[:-1, :]\n",
    "print(test_score_df.shape)\n",
    "test_score_df['loss'] = mae_test\n",
    "test_score_df['threshold'] = threshold\n",
    "test_score_df['anomaly'] = (test_score_df['loss'] > test_score_df['threshold']).astype(int)\n",
    "test_score_df['label'] = y_test\n",
    "# test_score_df['CO2'] = scaler.inverse_transform(test_score_df['CO2'])\n",
    "test_score_df.head()"
   ]
  },
  {
   "cell_type": "code",
   "execution_count": 27,
   "id": "300de8f4",
   "metadata": {
    "execution": {
     "iopub.execute_input": "2022-03-10T05:11:55.929998Z",
     "iopub.status.busy": "2022-03-10T05:11:55.929448Z",
     "iopub.status.idle": "2022-03-10T05:11:55.932932Z",
     "shell.execute_reply": "2022-03-10T05:11:55.932530Z",
     "shell.execute_reply.started": "2022-02-28T06:10:28.990496Z"
    },
    "papermill": {
     "duration": 2.221361,
     "end_time": "2022-03-10T05:11:55.933072",
     "exception": false,
     "start_time": "2022-03-10T05:11:53.711711",
     "status": "completed"
    },
    "tags": []
   },
   "outputs": [
    {
     "data": {
      "text/html": [
       "<div>\n",
       "<style scoped>\n",
       "    .dataframe tbody tr th:only-of-type {\n",
       "        vertical-align: middle;\n",
       "    }\n",
       "\n",
       "    .dataframe tbody tr th {\n",
       "        vertical-align: top;\n",
       "    }\n",
       "\n",
       "    .dataframe thead th {\n",
       "        text-align: right;\n",
       "    }\n",
       "</style>\n",
       "<table border=\"1\" class=\"dataframe\">\n",
       "  <thead>\n",
       "    <tr style=\"text-align: right;\">\n",
       "      <th></th>\n",
       "      <th>CO2</th>\n",
       "      <th>loss</th>\n",
       "      <th>threshold</th>\n",
       "      <th>anomaly</th>\n",
       "      <th>label</th>\n",
       "    </tr>\n",
       "    <tr>\n",
       "      <th>Date_Time</th>\n",
       "      <th></th>\n",
       "      <th></th>\n",
       "      <th></th>\n",
       "      <th></th>\n",
       "      <th></th>\n",
       "    </tr>\n",
       "  </thead>\n",
       "  <tbody>\n",
       "    <tr>\n",
       "      <th>2018-04-30 23:55:00</th>\n",
       "      <td>574.0</td>\n",
       "      <td>0.191344</td>\n",
       "      <td>4.232662</td>\n",
       "      <td>0</td>\n",
       "      <td>0</td>\n",
       "    </tr>\n",
       "    <tr>\n",
       "      <th>2018-04-30 23:56:00</th>\n",
       "      <td>575.0</td>\n",
       "      <td>0.214595</td>\n",
       "      <td>4.232662</td>\n",
       "      <td>0</td>\n",
       "      <td>0</td>\n",
       "    </tr>\n",
       "    <tr>\n",
       "      <th>2018-04-30 23:57:00</th>\n",
       "      <td>575.0</td>\n",
       "      <td>0.222806</td>\n",
       "      <td>4.232662</td>\n",
       "      <td>0</td>\n",
       "      <td>0</td>\n",
       "    </tr>\n",
       "    <tr>\n",
       "      <th>2018-04-30 23:58:00</th>\n",
       "      <td>576.0</td>\n",
       "      <td>0.245434</td>\n",
       "      <td>4.232662</td>\n",
       "      <td>0</td>\n",
       "      <td>0</td>\n",
       "    </tr>\n",
       "    <tr>\n",
       "      <th>2018-04-30 23:59:00</th>\n",
       "      <td>575.0</td>\n",
       "      <td>0.238809</td>\n",
       "      <td>4.232662</td>\n",
       "      <td>0</td>\n",
       "      <td>0</td>\n",
       "    </tr>\n",
       "  </tbody>\n",
       "</table>\n",
       "</div>"
      ],
      "text/plain": [
       "                       CO2      loss  threshold  anomaly  label\n",
       "Date_Time                                                      \n",
       "2018-04-30 23:55:00  574.0  0.191344   4.232662        0      0\n",
       "2018-04-30 23:56:00  575.0  0.214595   4.232662        0      0\n",
       "2018-04-30 23:57:00  575.0  0.222806   4.232662        0      0\n",
       "2018-04-30 23:58:00  576.0  0.245434   4.232662        0      0\n",
       "2018-04-30 23:59:00  575.0  0.238809   4.232662        0      0"
      ]
     },
     "execution_count": 27,
     "metadata": {},
     "output_type": "execute_result"
    }
   ],
   "source": [
    "test_score_df.tail()"
   ]
  },
  {
   "cell_type": "code",
   "execution_count": 28,
   "id": "5dd8e806",
   "metadata": {
    "execution": {
     "iopub.execute_input": "2022-03-10T05:12:00.675712Z",
     "iopub.status.busy": "2022-03-10T05:12:00.669784Z",
     "iopub.status.idle": "2022-03-10T05:12:00.988988Z",
     "shell.execute_reply": "2022-03-10T05:12:00.989595Z",
     "shell.execute_reply.started": "2022-02-28T06:10:31.248661Z"
    },
    "papermill": {
     "duration": 2.803431,
     "end_time": "2022-03-10T05:12:00.989771",
     "exception": false,
     "start_time": "2022-03-10T05:11:58.186340",
     "status": "completed"
    },
    "tags": []
   },
   "outputs": [
    {
     "data": {
      "image/png": "[encoded data removed]",
      "text/plain": [
       "<Figure size 1152x648 with 1 Axes>"
      ]
     },
     "metadata": {
      "needs_background": "light"
     },
     "output_type": "display_data"
    }
   ],
   "source": [
    "plt.figure(figsize=(16,9))\n",
    "plt.plot(test_score_df.index, test_score_df['loss'], label='loss')\n",
    "plt.plot(test_score_df.index, test_score_df['threshold'], label='threshold')\n",
    "plt.legend()\n",
    "plt.show()"
   ]
  },
  {
   "cell_type": "code",
   "execution_count": 29,
   "id": "1884e0fb",
   "metadata": {
    "execution": {
     "iopub.execute_input": "2022-03-10T05:12:05.428960Z",
     "iopub.status.busy": "2022-03-10T05:12:05.428001Z",
     "iopub.status.idle": "2022-03-10T05:12:05.443102Z",
     "shell.execute_reply": "2022-03-10T05:12:05.443541Z",
     "shell.execute_reply.started": "2022-02-28T06:10:43.631421Z"
    },
    "papermill": {
     "duration": 2.24968,
     "end_time": "2022-03-10T05:12:05.443679",
     "exception": false,
     "start_time": "2022-03-10T05:12:03.193999",
     "status": "completed"
    },
    "tags": []
   },
   "outputs": [
    {
     "data": {
      "text/html": [
       "<div>\n",
       "<style scoped>\n",
       "    .dataframe tbody tr th:only-of-type {\n",
       "        vertical-align: middle;\n",
       "    }\n",
       "\n",
       "    .dataframe tbody tr th {\n",
       "        vertical-align: top;\n",
       "    }\n",
       "\n",
       "    .dataframe thead th {\n",
       "        text-align: right;\n",
       "    }\n",
       "</style>\n",
       "<table border=\"1\" class=\"dataframe\">\n",
       "  <thead>\n",
       "    <tr style=\"text-align: right;\">\n",
       "      <th></th>\n",
       "      <th>CO2</th>\n",
       "      <th>loss</th>\n",
       "      <th>threshold</th>\n",
       "      <th>anomaly</th>\n",
       "      <th>label</th>\n",
       "    </tr>\n",
       "    <tr>\n",
       "      <th>Date_Time</th>\n",
       "      <th></th>\n",
       "      <th></th>\n",
       "      <th></th>\n",
       "      <th></th>\n",
       "      <th></th>\n",
       "    </tr>\n",
       "  </thead>\n",
       "  <tbody>\n",
       "    <tr>\n",
       "      <th>2018-03-01 08:37:00</th>\n",
       "      <td>1114.0</td>\n",
       "      <td>4.240371</td>\n",
       "      <td>4.232662</td>\n",
       "      <td>1</td>\n",
       "      <td>1</td>\n",
       "    </tr>\n",
       "    <tr>\n",
       "      <th>2018-03-01 08:38:00</th>\n",
       "      <td>1120.0</td>\n",
       "      <td>4.325783</td>\n",
       "      <td>4.232662</td>\n",
       "      <td>1</td>\n",
       "      <td>1</td>\n",
       "    </tr>\n",
       "    <tr>\n",
       "      <th>2018-03-01 08:39:00</th>\n",
       "      <td>1121.0</td>\n",
       "      <td>4.334863</td>\n",
       "      <td>4.232662</td>\n",
       "      <td>1</td>\n",
       "      <td>1</td>\n",
       "    </tr>\n",
       "    <tr>\n",
       "      <th>2018-03-01 08:40:00</th>\n",
       "      <td>1130.0</td>\n",
       "      <td>4.462390</td>\n",
       "      <td>4.232662</td>\n",
       "      <td>1</td>\n",
       "      <td>1</td>\n",
       "    </tr>\n",
       "    <tr>\n",
       "      <th>2018-03-01 08:41:00</th>\n",
       "      <td>1127.0</td>\n",
       "      <td>4.408709</td>\n",
       "      <td>4.232662</td>\n",
       "      <td>1</td>\n",
       "      <td>1</td>\n",
       "    </tr>\n",
       "    <tr>\n",
       "      <th>...</th>\n",
       "      <td>...</td>\n",
       "      <td>...</td>\n",
       "      <td>...</td>\n",
       "      <td>...</td>\n",
       "      <td>...</td>\n",
       "    </tr>\n",
       "    <tr>\n",
       "      <th>2018-04-30 16:32:00</th>\n",
       "      <td>1135.0</td>\n",
       "      <td>4.433439</td>\n",
       "      <td>4.232662</td>\n",
       "      <td>1</td>\n",
       "      <td>1</td>\n",
       "    </tr>\n",
       "    <tr>\n",
       "      <th>2018-04-30 16:33:00</th>\n",
       "      <td>1133.0</td>\n",
       "      <td>4.388570</td>\n",
       "      <td>4.232662</td>\n",
       "      <td>1</td>\n",
       "      <td>1</td>\n",
       "    </tr>\n",
       "    <tr>\n",
       "      <th>2018-04-30 16:34:00</th>\n",
       "      <td>1132.0</td>\n",
       "      <td>4.361294</td>\n",
       "      <td>4.232662</td>\n",
       "      <td>1</td>\n",
       "      <td>1</td>\n",
       "    </tr>\n",
       "    <tr>\n",
       "      <th>2018-04-30 16:35:00</th>\n",
       "      <td>1129.0</td>\n",
       "      <td>4.306580</td>\n",
       "      <td>4.232662</td>\n",
       "      <td>1</td>\n",
       "      <td>1</td>\n",
       "    </tr>\n",
       "    <tr>\n",
       "      <th>2018-04-30 16:36:00</th>\n",
       "      <td>1128.0</td>\n",
       "      <td>4.284215</td>\n",
       "      <td>4.232662</td>\n",
       "      <td>1</td>\n",
       "      <td>1</td>\n",
       "    </tr>\n",
       "  </tbody>\n",
       "</table>\n",
       "<p>3833 rows × 5 columns</p>\n",
       "</div>"
      ],
      "text/plain": [
       "                        CO2      loss  threshold  anomaly  label\n",
       "Date_Time                                                       \n",
       "2018-03-01 08:37:00  1114.0  4.240371   4.232662        1      1\n",
       "2018-03-01 08:38:00  1120.0  4.325783   4.232662        1      1\n",
       "2018-03-01 08:39:00  1121.0  4.334863   4.232662        1      1\n",
       "2018-03-01 08:40:00  1130.0  4.462390   4.232662        1      1\n",
       "2018-03-01 08:41:00  1127.0  4.408709   4.232662        1      1\n",
       "...                     ...       ...        ...      ...    ...\n",
       "2018-04-30 16:32:00  1135.0  4.433439   4.232662        1      1\n",
       "2018-04-30 16:33:00  1133.0  4.388570   4.232662        1      1\n",
       "2018-04-30 16:34:00  1132.0  4.361294   4.232662        1      1\n",
       "2018-04-30 16:35:00  1129.0  4.306580   4.232662        1      1\n",
       "2018-04-30 16:36:00  1128.0  4.284215   4.232662        1      1\n",
       "\n",
       "[3833 rows x 5 columns]"
      ]
     },
     "execution_count": 29,
     "metadata": {},
     "output_type": "execute_result"
    }
   ],
   "source": [
    "anomolies_test = test_score_df.loc[test_score_df['anomaly'] == 1]\n",
    "anomolies_test"
   ]
  },
  {
   "cell_type": "code",
   "execution_count": 30,
   "id": "74d81162",
   "metadata": {
    "execution": {
     "iopub.execute_input": "2022-03-10T05:12:10.099058Z",
     "iopub.status.busy": "2022-03-10T05:12:10.098285Z",
     "iopub.status.idle": "2022-03-10T05:12:10.518663Z",
     "shell.execute_reply": "2022-03-10T05:12:10.519104Z",
     "shell.execute_reply.started": "2022-02-28T06:10:46.328451Z"
    },
    "papermill": {
     "duration": 2.826192,
     "end_time": "2022-03-10T05:12:10.519258",
     "exception": false,
     "start_time": "2022-03-10T05:12:07.693066",
     "status": "completed"
    },
    "tags": []
   },
   "outputs": [
    {
     "data": {
      "image/png": "[encoded data removed]",
      "text/plain": [
       "<Figure size 1152x576 with 1 Axes>"
      ]
     },
     "metadata": {
      "needs_background": "light"
     },
     "output_type": "display_data"
    }
   ],
   "source": [
    "plt.figure(figsize=(16,8))\n",
    "plt.plot(test_score_df.index, test_score_df['CO2'], label='CO2')\n",
    "plt.scatter(anomolies_test.index, anomolies_test['CO2'], color='red', label='Anomalies')\n",
    "plt.plot(test_score_df.index, [ground_truth]*len(test_score_df.index))\n",
    "plt.legend()\n",
    "plt.show()"
   ]
  },
  {
   "cell_type": "code",
   "execution_count": 31,
   "id": "8c071212",
   "metadata": {
    "execution": {
     "iopub.execute_input": "2022-03-10T05:12:15.400907Z",
     "iopub.status.busy": "2022-03-10T05:12:15.399707Z",
     "iopub.status.idle": "2022-03-10T05:12:15.401922Z",
     "shell.execute_reply": "2022-03-10T05:12:15.402344Z",
     "shell.execute_reply.started": "2022-02-28T06:10:52.87401Z"
    },
    "papermill": {
     "duration": 2.649846,
     "end_time": "2022-03-10T05:12:15.402475",
     "exception": false,
     "start_time": "2022-03-10T05:12:12.752629",
     "status": "completed"
    },
    "tags": []
   },
   "outputs": [],
   "source": [
    "from sklearn.metrics import confusion_matrix\n",
    "from sklearn.metrics import roc_auc_score, roc_curve"
   ]
  },
  {
   "cell_type": "code",
   "execution_count": 32,
   "id": "7ea9dd46",
   "metadata": {
    "execution": {
     "iopub.execute_input": "2022-03-10T05:12:19.862677Z",
     "iopub.status.busy": "2022-03-10T05:12:19.861750Z",
     "iopub.status.idle": "2022-03-10T05:12:20.163672Z",
     "shell.execute_reply": "2022-03-10T05:12:20.162671Z",
     "shell.execute_reply.started": "2022-02-28T06:15:19.692326Z"
    },
    "papermill": {
     "duration": 2.590624,
     "end_time": "2022-03-10T05:12:20.163810",
     "exception": false,
     "start_time": "2022-03-10T05:12:17.573186",
     "status": "completed"
    },
    "tags": []
   },
   "outputs": [
    {
     "data": {
      "image/png": "[encoded data removed]",
      "text/plain": [
       "<Figure size 360x360 with 2 Axes>"
      ]
     },
     "metadata": {
      "needs_background": "light"
     },
     "output_type": "display_data"
    }
   ],
   "source": [
    "plt.rcParams['font.size'] = '16'\n",
    "matrix = confusion_matrix(test_score_df['label'], test_score_df['anomaly'])\n",
    "tn, fp, fn, tp = matrix.ravel()\n",
    "ticklabels = ['Negative', 'Positive']\n",
    "fig, ax = plt.subplots(figsize=(5, 5))\n",
    "sns.heatmap(matrix, ax=ax, annot=True, fmt=\"d\", cmap=plt.cm.Blues, xticklabels=ticklabels, yticklabels=ticklabels)\n",
    "plt.xlabel('Predicted label', fontsize=16)\n",
    "plt.ylabel('True label', fontsize=16)\n",
    "plt.show()"
   ]
  },
  {
   "cell_type": "code",
   "execution_count": 33,
   "id": "ac0a5346",
   "metadata": {
    "execution": {
     "iopub.execute_input": "2022-03-10T05:12:24.865041Z",
     "iopub.status.busy": "2022-03-10T05:12:24.864199Z",
     "iopub.status.idle": "2022-03-10T05:12:25.046703Z",
     "shell.execute_reply": "2022-03-10T05:12:25.047133Z",
     "shell.execute_reply.started": "2022-02-28T06:10:58.1405Z"
    },
    "papermill": {
     "duration": 2.430395,
     "end_time": "2022-03-10T05:12:25.047291",
     "exception": false,
     "start_time": "2022-03-10T05:12:22.616896",
     "status": "completed"
    },
    "tags": []
   },
   "outputs": [
    {
     "name": "stdout",
     "output_type": "stream",
     "text": [
      "precision = 1.0\n",
      "recall = 0.8693581310954865\n",
      "accuracy = 0.9933783970202786\n",
      "F1 = 0.9301140499878671\n"
     ]
    },
    {
     "data": {
      "image/png": "[encoded data removed]",
      "text/plain": [
       "<Figure size 432x288 with 1 Axes>"
      ]
     },
     "metadata": {
      "needs_background": "light"
     },
     "output_type": "display_data"
    }
   ],
   "source": [
    "precision = tp / (tp + fp)\n",
    "recall = tp / (tp + fn)\n",
    "print(f\"precision = {precision}\")\n",
    "print(f\"recall = {recall}\")\n",
    "\n",
    "Accuracy = (tp + tn) / (tp + tn + fp + fn)\n",
    "F1 = 2 * precision * recall / (precision + recall)\n",
    "print(f\"accuracy = {Accuracy}\")\n",
    "print(f\"F1 = {F1}\")\n",
    "\n",
    "fpr, tpr, _ = roc_curve(test_score_df['label'], test_score_df['anomaly'])\n",
    "roc_auc = roc_auc_score(test_score_df['label'], test_score_df['anomaly'])\n",
    "plt.plot(fpr, tpr, label=f'AUC = {roc_auc:0.3f}' )\n",
    "plt.plot([0,1], [0,1], '--b')\n",
    "plt.legend(loc='lower right')\n",
    "plt.show()"
   ]
  },
  {
   "cell_type": "code",
   "execution_count": null,
   "id": "443ead7e",
   "metadata": {
    "papermill": {
     "duration": 2.184619,
     "end_time": "2022-03-10T05:12:29.410142",
     "exception": false,
     "start_time": "2022-03-10T05:12:27.225523",
     "status": "completed"
    },
    "tags": []
   },
   "outputs": [],
   "source": []
  }
 ],
 "metadata": {
  "kernelspec": {
   "display_name": "Python 3",
   "language": "python",
   "name": "python3"
  },
  "language_info": {
   "codemirror_mode": {
    "name": "ipython",
    "version": 3
   },
   "file_extension": ".py",
   "mimetype": "text/x-python",
   "name": "python",
   "nbconvert_exporter": "python",
   "pygments_lexer": "ipython3",
   "version": "3.7.12"
  },
  "papermill": {
   "default_parameters": {},
   "duration": 784.473201,
   "end_time": "2022-03-10T05:12:35.310426",
   "environment_variables": {},
   "exception": null,
   "input_path": "__notebook__.ipynb",
   "output_path": "__notebook__.ipynb",
   "parameters": {},
   "start_time": "2022-03-10T04:59:30.837225",
   "version": "2.3.3"
  }
 },
 "nbformat": 4,
 "nbformat_minor": 5
}
